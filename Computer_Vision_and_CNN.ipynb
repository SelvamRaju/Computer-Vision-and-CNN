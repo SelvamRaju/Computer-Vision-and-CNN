{
  "nbformat": 4,
  "nbformat_minor": 0,
  "metadata": {
    "colab": {
      "name": "Computer-Vision-and-CNN.ipynb",
      "provenance": [],
      "mount_file_id": "1A3P0XZoalx04HpxYgWGiqqLrxHKPFdbG",
      "authorship_tag": "ABX9TyPqaGEpM/ZAYstuXrWui+lb",
      "include_colab_link": true
    },
    "kernelspec": {
      "name": "python3",
      "display_name": "Python 3"
    },
    "language_info": {
      "name": "python"
    }
  },
  "cells": [
    {
      "cell_type": "markdown",
      "metadata": {
        "id": "view-in-github",
        "colab_type": "text"
      },
      "source": [
        "<a href=\"https://colab.research.google.com/github/SelvamRaju/Computer-Vision-and-CNN/blob/main/Computer_Vision_and_CNN.ipynb\" target=\"_parent\"><img src=\"https://colab.research.google.com/assets/colab-badge.svg\" alt=\"Open In Colab\"/></a>"
      ]
    },
    {
      "cell_type": "markdown",
      "source": [
        "# **Domain : Botanical Research**"
      ],
      "metadata": {
        "id": "mFP2ryYiCGPu"
      }
    },
    {
      "cell_type": "code",
      "execution_count": 1,
      "metadata": {
        "colab": {
          "base_uri": "https://localhost:8080/",
          "height": 35
        },
        "id": "yiIn529f7Y7j",
        "outputId": "4292d221-44dc-48db-fabb-ecbd0e9f4c46"
      },
      "outputs": [
        {
          "output_type": "execute_result",
          "data": {
            "application/vnd.google.colaboratory.intrinsic+json": {
              "type": "string"
            },
            "text/plain": [
              "'2.7.0'"
            ]
          },
          "metadata": {},
          "execution_count": 1
        }
      ],
      "source": [
        "%tensorflow_version 2.x\n",
        "import tensorflow\n",
        "tensorflow.__version__"
      ]
    },
    {
      "cell_type": "markdown",
      "source": [
        "# **1. Import the data. Analyse the dimensions of the data. Visualise the data**"
      ],
      "metadata": {
        "id": "pNH9vHwONp4k"
      }
    },
    {
      "cell_type": "markdown",
      "source": [
        "# **2. Design, train tune and test the best AIML image classifier model using:**\n",
        "\n",
        "• Supervised learning algorithms\n",
        "• Neural networks\n",
        "• CNN\n"
      ],
      "metadata": {
        "id": "6cViLIL5Nxa8"
      }
    },
    {
      "cell_type": "markdown",
      "source": [
        "# **3. Compare the results from the above step along with your detailed observations on the best performing algorithm and why/how it outperforms other algorithms in this case.**"
      ],
      "metadata": {
        "id": "o0E6hY78N7kf"
      }
    },
    {
      "cell_type": "markdown",
      "source": [
        "# **4. Pickle the best performing model.**"
      ],
      "metadata": {
        "id": "PaCky-8FOD59"
      }
    },
    {
      "cell_type": "markdown",
      "source": [
        "# **5. Import the the test image [ from the “ Prediction” folder ] to predict the class. Display the image. Use the best trained image classifier model to predict the class.**"
      ],
      "metadata": {
        "id": "aUrNUO9bOIan"
      }
    }
  ]
}